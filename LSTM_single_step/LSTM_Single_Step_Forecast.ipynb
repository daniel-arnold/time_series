{
 "cells": [
  {
   "cell_type": "code",
   "execution_count": 1,
   "metadata": {},
   "outputs": [],
   "source": [
    "#Imports\n",
    "import pandas as pd\n",
    "from datetime import datetime\n",
    "import matplotlib.pyplot as plt\n",
    "import numpy as np\n",
    "import tensorflow as tf\n",
    "from tensorflow import keras\n",
    "from tensorflow.keras import layers\n",
    "from tensorflow.keras import models"
   ]
  },
  {
   "cell_type": "code",
   "execution_count": null,
   "metadata": {},
   "outputs": [],
   "source": [
    "#Load Data\n",
    "data = pd.read_csv('data/AEP_hourly.csv', index_col=0, parse_dates=True)\n",
    "\n",
    "#Sort the dataframe\n",
    "data.sort_values('Datetime', inplace=True)"
   ]
  },
  {
   "cell_type": "code",
   "execution_count": null,
   "metadata": {},
   "outputs": [],
   "source": [
    "#Methods\n",
    "def make_X_Y(ts:list, lag:int, n_ahead:int):\n",
    "    \"\"\"\n",
    "    Create X and Y matrices needed for NN training\n",
    "    \"\"\"\n",
    "    X,Y = [], []\n",
    "\n",
    "    if len(ts) - lag <=0:\n",
    "        X.append(ts)\n",
    "    else:\n",
    "        for i in range(len(ts) - lag - n_ahead):\n",
    "            Y.append(ts[i + lag : i + lag + n_ahead])\n",
    "            X.append(ts[i:i+lag])\n",
    "\n",
    "    X,Y = np.array(X), np.array(Y)\n",
    "\n",
    "    #reshape array into standard form for timeseries\n",
    "    X = np.reshape(X, (X.shape[0], X.shape[1], 1))\n",
    "\n",
    "    return X,Y\n",
    "\n",
    "def make_train_test_data(ts:list, lag:int, train_test_split:float, n_ahead:int):\n",
    "    \"\"\"\n",
    "    Create training and testing data for NN\n",
    "    \"\"\"\n",
    "    #create X and Y matrices\n",
    "    X,Y = make_X_Y(ts, lag, n_ahead)\n",
    "\n",
    "    #split into test and train\n",
    "    X_train = []\n",
    "    X_test = []\n",
    "    Y_train = []\n",
    "    Y_test = []\n",
    "\n",
    "    if train_test_split > 0:\n",
    "        idx = round(len(X) * train_test_split)\n",
    "        X_train = X[:(len(X) - idx)]\n",
    "        X_test = X[-idx:]\n",
    "\n",
    "        Y_train = Y[:(len(Y) - idx)]\n",
    "        Y_test = Y[-idx:]\n",
    "\n",
    "    return X_train, X_test, Y_train, Y_test"
   ]
  },
  {
   "cell_type": "markdown",
   "metadata": {},
   "source": [
    "1-Step Ahead Prediction"
   ]
  },
  {
   "cell_type": "code",
   "execution_count": null,
   "metadata": {},
   "outputs": [],
   "source": [
    "#Deep Learning\n",
    "\n",
    "#number of neurons in LSTM layer\n",
    "n_layer = 50\n",
    "\n",
    "#number of lags\n",
    "n_lag = 3\n",
    "\n",
    "# number of steps ahead to predict\n",
    "n_ahead = 1\n",
    "\n",
    "#Model\n",
    "model = keras.Sequential(\n",
    "    [\n",
    "    layers.LSTM(n_layer, activation='relu', input_shape=(n_lag,1)),\n",
    "    layers.Dense(1)\n",
    "    ]\n",
    ")\n",
    "#compile model\n",
    "model.compile(optimizer='adam', loss='mse')\n",
    "\n",
    "epochs = 10\n",
    "batch_size = 256\n",
    "train_test_split = 0.15\n",
    "\n",
    "#create train and testing data\n",
    "X_train, X_test, Y_train, Y_test = make_train_test_data(list(data['AEP_MW']), n_lag, train_test_split, n_ahead)\n",
    "\n",
    "#create a dict for keras training args\n",
    "keras_dict = {\n",
    "    'x':X_train,\n",
    "    'y':Y_train,\n",
    "    'batch_size':batch_size,\n",
    "    'epochs':epochs,\n",
    "    'shuffle':False,\n",
    "    'validation_data':(X_test,Y_test)\n",
    "}"
   ]
  },
  {
   "cell_type": "code",
   "execution_count": null,
   "metadata": {},
   "outputs": [],
   "source": [
    "#fit the model\n",
    "model.fit(**keras_dict)"
   ]
  },
  {
   "cell_type": "code",
   "execution_count": null,
   "metadata": {},
   "outputs": [],
   "source": [
    "#predict\n",
    "yhat = []\n",
    "yhat = [y[0] for y in model.predict(X_test)]"
   ]
  },
  {
   "cell_type": "code",
   "execution_count": null,
   "metadata": {},
   "outputs": [],
   "source": [
    "#Compare training data and 1 step ahead prediction\n",
    "idx_train = len(Y_train)\n",
    "idx_test = len(Y_test)\n",
    "train_range = range(0, idx_train)\n",
    "test_range = range(idx_train, idx_train + idx_test)\n",
    "plt.plot(range(0,len(Y_train)),Y_train)\n",
    "plt.plot(test_range,yhat,'r')\n",
    "plt.title('1-step ahead prediction')\n",
    "plt.xlabel('hour')\n",
    "plt.ylabel('MW')\n",
    "plt.show()\n",
    "\n",
    "n_last = 100\n",
    "plt.plot(Y_test[-n_last:-1],label='true')\n",
    "plt.plot(yhat[-n_last:-1],'r',label='pred')\n",
    "plt.title('1-step ahead prediction, last ' + str(n_last) + ' hours')\n",
    "plt.xlabel('hour')\n",
    "plt.ylabel('MW')\n",
    "plt.legend()\n",
    "plt.show()\n"
   ]
  }
 ],
 "metadata": {
  "interpreter": {
   "hash": "e0bb728beb3379524f9ae61ddbabb2fc165d7802532a5ce8a5c5612203326f42"
  },
  "kernelspec": {
   "display_name": "Python 3.9.7 64-bit ('tf': conda)",
   "language": "python",
   "name": "python3"
  },
  "language_info": {
   "codemirror_mode": {
    "name": "ipython",
    "version": 3
   },
   "file_extension": ".py",
   "mimetype": "text/x-python",
   "name": "python",
   "nbconvert_exporter": "python",
   "pygments_lexer": "ipython3",
   "version": "3.8.12"
  },
  "orig_nbformat": 4
 },
 "nbformat": 4,
 "nbformat_minor": 2
}
